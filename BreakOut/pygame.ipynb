{
 "cells": [
  {
   "cell_type": "code",
   "execution_count": null,
   "source": [
    "import pygame\r\n",
    "pygame.init()\r\n",
    " \r\n",
    "# Define some colors\r\n",
    "WHITE = (255,255,255)\r\n",
    "DARKBLUE = (36,90,190)\r\n",
    "LIGHTBLUE = (0,176,240)\r\n",
    "RED = (255,0,0)\r\n",
    "ORANGE = (255,100,0)\r\n",
    "YELLOW = (255,255,0)\r\n",
    " \r\n",
    "score = 0\r\n",
    "lives = 3\r\n",
    " \r\n",
    "# Open a new window\r\n",
    "size = (800, 600)\r\n",
    "screen = pygame.display.set_mode(size)\r\n",
    "pygame.display.set_caption(\"Breakout Game\")\r\n",
    " \r\n",
    "# The loop will carry on until the user exit the game (e.g. clicks the close button).\r\n",
    "carryOn = True\r\n",
    " \r\n",
    "# The clock will be used to control how fast the screen updates\r\n",
    "clock = pygame.time.Clock()\r\n",
    " \r\n",
    "# -------- Main Program Loop -----------\r\n",
    "while carryOn:\r\n",
    "    # --- Main event loop\r\n",
    "    for event in pygame.event.get(): # User did something\r\n",
    "        if event.type == pygame.QUIT: # If user clicked close\r\n",
    "              carryOn = False # Flag that we are done so we exit this loop\r\n",
    " \r\n",
    "    # --- Game logic should go here\r\n",
    " \r\n",
    " \r\n",
    "    # --- Drawing code should go here\r\n",
    "    # First, clear the screen to dark blue. \r\n",
    "    screen.fill(DARKBLUE)\r\n",
    "    pygame.draw.line(screen, WHITE, [0, 38], [800, 38], 2)\r\n",
    " \r\n",
    "    #Display the score and the number of lives at the top of the screen\r\n",
    "    font = pygame.font.Font(None, 34)\r\n",
    "    text = font.render(\"Score: \" + str(score), 1, WHITE)\r\n",
    "    screen.blit(text, (20,10))\r\n",
    "    text = font.render(\"Lives: \" + str(lives), 1, WHITE)\r\n",
    "    screen.blit(text, (650,10))\r\n",
    " \r\n",
    "    # --- Go ahead and update the screen with what we've drawn.\r\n",
    "    pygame.display.flip()\r\n",
    "     \r\n",
    "    # --- Limit to 60 frames per second\r\n",
    "    clock.tick(60)\r\n",
    " \r\n",
    "#Once we have exited the main program loop we can stop the game engine:\r\n",
    "pygame.quit()"
   ],
   "outputs": [
    {
     "output_type": "error",
     "ename": "Error",
     "evalue": "Session cannot generate requests",
     "traceback": [
      "Error: Session cannot generate requests",
      "at w.executeCodeCell (c:\\Users\\Lenovo\\.vscode\\extensions\\ms-toolsai.jupyter-2021.8.1046824664\\out\\client\\extension.js:90:320068)",
      "at w.execute (c:\\Users\\Lenovo\\.vscode\\extensions\\ms-toolsai.jupyter-2021.8.1046824664\\out\\client\\extension.js:90:319389)",
      "at w.start (c:\\Users\\Lenovo\\.vscode\\extensions\\ms-toolsai.jupyter-2021.8.1046824664\\out\\client\\extension.js:90:315205)",
      "at processTicksAndRejections (internal/process/task_queues.js:93:5)",
      "at async t.CellExecutionQueue.executeQueuedCells (c:\\Users\\Lenovo\\.vscode\\extensions\\ms-toolsai.jupyter-2021.8.1046824664\\out\\client\\extension.js:90:329732)",
      "at async t.CellExecutionQueue.start (c:\\Users\\Lenovo\\.vscode\\extensions\\ms-toolsai.jupyter-2021.8.1046824664\\out\\client\\extension.js:90:329272)"
     ]
    }
   ],
   "metadata": {}
  },
  {
   "cell_type": "code",
   "execution_count": 1,
   "source": [
    "from random import randint\r\n",
    "[randint(4,8),randint(-8,8)]"
   ],
   "outputs": [
    {
     "output_type": "execute_result",
     "data": {
      "text/plain": [
       "[7, 2]"
      ]
     },
     "metadata": {},
     "execution_count": 1
    }
   ],
   "metadata": {}
  },
  {
   "cell_type": "code",
   "execution_count": null,
   "source": [],
   "outputs": [],
   "metadata": {}
  },
  {
   "cell_type": "code",
   "execution_count": null,
   "source": [],
   "outputs": [],
   "metadata": {}
  },
  {
   "cell_type": "code",
   "execution_count": null,
   "source": [],
   "outputs": [],
   "metadata": {}
  },
  {
   "cell_type": "code",
   "execution_count": null,
   "source": [],
   "outputs": [],
   "metadata": {}
  }
 ],
 "metadata": {
  "kernelspec": {
   "name": "python3",
   "display_name": "Python 3.8.10 64-bit ('NSL': conda)"
  },
  "language_info": {
   "codemirror_mode": {
    "name": "ipython",
    "version": 3
   },
   "file_extension": ".py",
   "mimetype": "text/x-python",
   "name": "python",
   "nbconvert_exporter": "python",
   "pygments_lexer": "ipython3",
   "version": "3.8.10"
  },
  "interpreter": {
   "hash": "2364ec829e49aff8218d1e57b28eb3a56145086e2b720e74aa2dacfdfc031def"
  }
 },
 "nbformat": 4,
 "nbformat_minor": 5
}